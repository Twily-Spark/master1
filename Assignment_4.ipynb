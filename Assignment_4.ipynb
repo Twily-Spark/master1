{
  "nbformat": 4,
  "nbformat_minor": 0,
  "metadata": {
    "colab": {
      "provenance": [],
      "authorship_tag": "ABX9TyOoNNdMaytX2NHZa9lz9wRS",
      "include_colab_link": true
    },
    "kernelspec": {
      "name": "python3",
      "display_name": "Python 3"
    },
    "language_info": {
      "name": "python"
    }
  },
  "cells": [
    {
      "cell_type": "markdown",
      "metadata": {
        "id": "view-in-github",
        "colab_type": "text"
      },
      "source": [
        "<a href=\"https://colab.research.google.com/github/Twily-Spark/master1/blob/master/Assignment_4.ipynb\" target=\"_parent\"><img src=\"https://colab.research.google.com/assets/colab-badge.svg\" alt=\"Open In Colab\"/></a>"
      ]
    },
    {
      "cell_type": "code",
      "execution_count": 4,
      "metadata": {
        "colab": {
          "base_uri": "https://localhost:8080/"
        },
        "id": "-2C77ZaZ4AOE",
        "outputId": "d339fe43-5003-440f-d3c6-51058c931cea"
      },
      "outputs": [
        {
          "output_type": "stream",
          "name": "stdout",
          "text": [
            "Collecting svg.py\n",
            "  Downloading svg_py-1.5.0-py3-none-any.whl.metadata (2.1 kB)\n",
            "Downloading svg_py-1.5.0-py3-none-any.whl (13 kB)\n",
            "Installing collected packages: svg.py\n",
            "Successfully installed svg.py-1.5.0\n",
            "Collecting svg.path\n",
            "  Downloading svg.path-6.3-py2.py3-none-any.whl.metadata (13 kB)\n",
            "Downloading svg.path-6.3-py2.py3-none-any.whl (16 kB)\n",
            "Installing collected packages: svg.path\n",
            "Successfully installed svg.path-6.3\n"
          ]
        }
      ],
      "source": [
        "!pip install svg.py\n",
        "!pip install svg.path"
      ]
    },
    {
      "cell_type": "code",
      "source": [
        "import numpy as np\n",
        "import matplotlib.pyplot as plt\n",
        "import math\n",
        "from time import time\n",
        "import pandas as pd\n",
        "\n",
        "from svg.path import parse_path\n",
        "from svg.path.path import Line\n",
        "from xml.dom import minidom\n"
      ],
      "metadata": {
        "id": "hdQB71xiOBFN"
      },
      "execution_count": 13,
      "outputs": []
    },
    {
      "cell_type": "code",
      "source": [
        "initPt=[[1,2,1,0],[0,1,2,1]]\n",
        "initP_np=np.array(initPt)\n",
        "rotA=lambda th: np.array([[math.cos(th), -math.sin(th)],[math.sin(th), math.cos(th)]])\n",
        "\n",
        "ang1=0\n",
        "ang2=math.pi\n",
        "\n",
        "display(rotA(ang1))\n",
        "display(rotA(ang2))\n",
        "\n",
        "print(initP_np)\n",
        "print('~~~~~~')\n",
        "print(rotA(ang1).dot(initP_np))"
      ],
      "metadata": {
        "colab": {
          "base_uri": "https://localhost:8080/",
          "height": 173
        },
        "id": "p2YboR-ZaHba",
        "outputId": "74589d57-8768-4bc8-b48b-8e05f50ffec4"
      },
      "execution_count": 14,
      "outputs": [
        {
          "output_type": "display_data",
          "data": {
            "text/plain": [
              "array([[ 1., -0.],\n",
              "       [ 0.,  1.]])"
            ]
          },
          "metadata": {}
        },
        {
          "output_type": "display_data",
          "data": {
            "text/plain": [
              "array([[-1.0000000e+00, -1.2246468e-16],\n",
              "       [ 1.2246468e-16, -1.0000000e+00]])"
            ]
          },
          "metadata": {}
        },
        {
          "output_type": "stream",
          "name": "stdout",
          "text": [
            "[[1 2 1 0]\n",
            " [0 1 2 1]]\n",
            "~~~~~~\n",
            "[[1. 2. 1. 0.]\n",
            " [0. 1. 2. 1.]]\n"
          ]
        }
      ]
    },
    {
      "cell_type": "code",
      "source": [],
      "metadata": {
        "id": "Br3h7Hg-a7e6"
      },
      "execution_count": null,
      "outputs": []
    }
  ]
}